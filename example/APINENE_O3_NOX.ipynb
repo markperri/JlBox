{
 "cells": [
  {
   "cell_type": "markdown",
   "metadata": {},
   "source": [
    "# Initialize JlBox environment"
   ]
  },
  {
   "cell_type": "code",
   "execution_count": null,
   "metadata": {},
   "outputs": [],
   "source": [
    "using Pkg\n",
    "Pkg.activate(\"..\")\n",
    "Pkg.build(\"JlBox\")"
   ]
  },
  {
   "cell_type": "markdown",
   "metadata": {},
   "source": [
    "# Gas phase simulation\n",
    "- Simulation config:\n",
    "    - Simulation period: 10800 seconds from midday 12:00\n",
    "    - Simulation condition: temperature = 298.15K, solar declination angle = 23.79deg, latitude = 50deg\n",
    "    - Initial condition: 18 ppm Ozone, 30 ppm Alpha-Pinene\n",
    "- Solver config:\n",
    "    - Solver: TRBDF2\n",
    "    - Tolerance: relative tol = 1e-6, absolute tol = 1e-4\n",
    "    - Time step: initial timestep = 1e-6, max timestep = 100.0\n",
    "    - Jacobian: dense, analytical\n",
    "- Output:\n",
    "    - df: concentration of gases (unit: molecules/cc)"
   ]
  },
  {
   "cell_type": "code",
   "execution_count": null,
   "metadata": {},
   "outputs": [],
   "source": [
    "using JlBox, OrdinaryDiffEq\n",
    "function configure_gas()\n",
    "    file=joinpath(@__DIR__,\"../data/MCM_APINENE_O3.eqn.txt\")#\"MCM_test.eqn.txt\"MCM_APINENE.eqn.txt\"MCM_mixed_test.eqn.txt\"MCM_ISOPRENE.eqn.txt\n",
    "    temp=298.15 # Kelvin\n",
    "    RH=0.5 # RH/100% [0 - 0.99]\n",
    "    hour_of_day=12.0 # Define a start time  24 hr format\n",
    "    start_time=hour_of_day*60*60 # seconds, used as t0 in solver\n",
    "    simulation_time= 10800.0 # seconds\n",
    "    batch_step=100.0 # seconds\n",
    "    temp_celsius=temp-273.15\n",
    "    Psat=610.78*exp((temp_celsius/(temp_celsius+238.3))*17.2694)# Saturation VP of water vapour, to get concentration of H20\n",
    "    Pw=RH*Psat\n",
    "    Wconc=0.002166*(Pw/(temp_celsius+273.16))*1.0e-6 #kg/cm3\n",
    "    H2O=Wconc*(1.0/(18.0e-3))*6.0221409e+23#Convert from kg to molecules/cc\n",
    "    Cfactor=2.55e+10 #ppb-to-molecules/cc\n",
    "    reactants_initial_dict=Dict([\"O3\"=>18.0,\"APINENE\"=>30.0])#ppm [\"O3\"=>18.0,\"APINENE\"=>30.0])BUT1ENE\"C5H8\n",
    "    constant_dict=Dict([(:temp,temp),(:H2O,H2O)])\n",
    "    dec=23.79\n",
    "    lat=50.0\n",
    "    photolysis_config=JlBox.DiurnalPhotolysisConfig(dec, lat)\n",
    "    solver=TRBDF2(autodiff=false)\n",
    "    #solver=Sundials.CVODE_BDF()\n",
    "    reltol=1e-6\n",
    "    abstol=1.0e-4\n",
    "    dtinit=1e-6\n",
    "    dtmax=100.0\n",
    "    positiveness=false\n",
    "    use_jacobian=true\n",
    "    sparse=false\n",
    "    config=JlBox.GasConfig(file,temp,RH,start_time,simulation_time,batch_step,\n",
    "                       H2O,Cfactor,reactants_initial_dict,constant_dict,photolysis_config)\n",
    "    solverconfig=JlBox.SolverConfig(solver,sparse,reltol,abstol,dtinit,dtmax,positiveness)\n",
    "    config,solverconfig\n",
    "end\n",
    "\n",
    "config, solverconfig = configure_gas()\n",
    "sol_gas, reactants2ind_gas, _ = JlBox.run_simulation(config, solverconfig);"
   ]
  },
  {
   "cell_type": "code",
   "execution_count": null,
   "metadata": {},
   "outputs": [],
   "source": [
    "df = JlBox.postprocess_gas(sol_gas, reactants2ind_gas, config)\n",
    "df[:,[:APINENE,:O3,:OH,:PINONIC,:O,:O1D,:NO2]]"
   ]
  },
  {
   "cell_type": "markdown",
   "metadata": {},
   "source": [
    "## Plotting\n",
    "\n",
    "Install `Plots` package"
   ]
  },
  {
   "cell_type": "code",
   "execution_count": null,
   "metadata": {},
   "outputs": [],
   "source": [
    "Pkg.add(\"Plots\")"
   ]
  },
  {
   "cell_type": "markdown",
   "metadata": {},
   "source": [
    "### Plot time series for Alpha-Pinene & PINONIC\n",
    "\n",
    "Same result can be found in : https://github.com/loftytopping/PyBox/blob/master/images/Example_deafult_gas_simulation.png"
   ]
  },
  {
   "cell_type": "code",
   "execution_count": null,
   "metadata": {},
   "outputs": [],
   "source": [
    "using Plots\n",
    "Cfactor=2.55e+10 #ppb-to-molecules/cc\n",
    "t_index = range(0, stop = 10800/3600, length = 109)\n",
    "plot(t_index, log10.(df[!,:APINENE]), label = \"Alpha-Pinene\")\n",
    "plot!(t_index, log10.(df[!,:PINONIC]), label = \"PINONIC\")\n",
    "plot!(t_index, log10.(df[!,:O3]), label = \"O3\")\n",
    "plot!(t_index, log10.(df[!,:NO2]), label = \"NO2\")\n",
    "plot!(t_index, log10.(df[!,:NO]), label = \"NO\")\n",
    "xlabel!(\"Time (hour)\")\n",
    "ylabel!(\"Log10(Concentration in molecules/cc)\")"
   ]
  },
  {
   "cell_type": "markdown",
   "metadata": {},
   "source": [
    "# Gas+Aerosol Simulation\n",
    "- Simulation config:\n",
    "    - Simulation period: 3600 seconds from midday 12:00\n",
    "    - Simulation condition: temperature = 288.15K, solar declination angle = 23.79deg, latitude = 50deg\n",
    "    - Initial condition: 18 ppm Ozone, 30 ppm Alpha-Pinene, 50% relative humidity\n",
    "    - \\# Size bins: 16\n",
    "    - Nuclei profile: lognormal size distribution of 100 particles/cc, mean size = 0.2 um, size std = 2.2 um, lower size = 0.01 um, upper size = 1.0 um\n",
    "    - Nuclei material: ammonium sulphate\n",
    "- Solver config:\n",
    "    - Solver: CVODE_BDF\n",
    "    - Tolerance: relative tol = 1e-4, absolute tol = 1e-2\n",
    "    - Time step: initial timestep = 1e-6, max timestep = 100.0\n",
    "    - Jacobian: dense, analytical\n",
    "- Output:\n",
    "    - df_gas: concentration of gases (unit: molecules/cc)\n",
    "    - df_SOA: Secondary Organic Aerosol mass (unit: ug/m3), and mass distribution for each size bin (unit: ug/m3)\n",
    "    - df_size: Size bins (unit: m)"
   ]
  },
  {
   "cell_type": "code",
   "execution_count": null,
   "metadata": {},
   "outputs": [],
   "source": [
    "using JlBox\n",
    "using Sundials\n",
    "\n",
    "function configure_aerosol()\n",
    "    file=joinpath(@__DIR__,\"../data/MCM_APINENE.eqn.txt\")#\"MCM_test.eqn.txt\"MCM_BCARY.eqn.txt\n",
    "    temp=288.15 # Kelvin\n",
    "    RH=0.5 # RH/100% [0 - 0.99]\n",
    "    hour_of_day=12.0 # Define a start time  24 hr format\n",
    "    start_time=hour_of_day*60*60 # seconds, used as t0 in solver\n",
    "    simulation_time= 3600.0 # seconds\n",
    "    batch_step=300.0 # seconds\n",
    "    temp_celsius=temp-273.15\n",
    "    Psat_w=610.78*exp((temp_celsius/(temp_celsius+238.3))*17.2694)# Saturation VP of water vapour, to get concentration of H20\n",
    "    Pw=RH*Psat_w\n",
    "    Wconc=0.002166*(Pw/(temp_celsius+273.16))*1.0e-6 #kg/cm3\n",
    "    H2O=Wconc*(1.0/(18.0e-3))*6.0221409e+23#Convert from kg to molecules/cc\n",
    "    Cfactor= 2.55e+10 #ppb-to-molecules/cc\n",
    "    reactants_initial_dict=Dict([\"O3\"=>18.0,\"APINENE\"=>30.0,\"H2O\"=>H2O/Cfactor])#ppb BUT1ENE APINENE\n",
    "    constant_dict=Dict([(:temp,temp)])\n",
    "    dec=23.79\n",
    "    lat=50.0\n",
    "    photolysis_config=JlBox.DiurnalPhotolysisConfig(dec, lat)\n",
    "    num_bins=16\n",
    "\n",
    "    #Lognormal Distribution\n",
    "    total_conc=100 #Total particles per cc\n",
    "    size_std=2.2 #Standard Deviation\n",
    "    lowersize=0.01 #microns\n",
    "    uppersize=1.0 #microns\n",
    "    meansize=0.2 #microns\n",
    "\n",
    "    # - Specify the core material. \n",
    "    # This code is currently setup to consider *ammonium sulphate* as the core\n",
    "    y_core_init=1.0e-3.+zeros(Float64,num_bins) #Will hold concentration of core material, only initialise here [molecules/cc] \n",
    "    core_density_array=1770.0.+zeros(Float64,num_bins) #[kg/m3] - need to make sure this matches core definition above\n",
    "    core_mw=132.14.+zeros(Float64,num_bins) #[g/mol]\n",
    "    core_dissociation=3.0 #Define this according to choice of core type. Please note this value might change\n",
    "\n",
    "    vp_cutoff=-6.0\n",
    "    sigma=72.0e-3 # Assume surface tension of water (mN/m) ???\n",
    "    property_methods=Dict(\"bp\"=>\"joback_and_reid\",\"vp\"=>\"nannoolal\",\"critical\"=>\"nannoolal\",\"density\"=>\"girolami\")\n",
    "    config=JlBox.AerosolConfig(file,temp,RH,start_time,simulation_time,batch_step,\n",
    "                           H2O,Cfactor,reactants_initial_dict,constant_dict,photolysis_config,num_bins,\n",
    "                           total_conc,size_std,lowersize,uppersize,meansize,y_core_init,\n",
    "                           core_density_array,core_mw,core_dissociation,vp_cutoff,\n",
    "                           sigma,property_methods)\n",
    "    config\n",
    "end\n",
    "\n",
    "function configure_aerosol_solver_dense()\n",
    "    solver=Sundials.CVODE_BDF()#OrdinaryDiffEq.TRBDF2(autodiff=false)\n",
    "    sparse=false\n",
    "    reltol=1e-4\n",
    "    abstol=1.0e-2\n",
    "    dtinit=1e-6\n",
    "    dtmax=100.0\n",
    "    positiveness=false\n",
    "    diff_method=\"fine_analytical\"\n",
    "    solverconfig=JlBox.SolverConfig(solver,sparse,reltol,abstol,dtinit,dtmax,positiveness,diff_method)\n",
    "    solverconfig\n",
    "end\n",
    "\n",
    "config = configure_aerosol()\n",
    "solverconfig = configure_aerosol_solver_dense()\n",
    "@time sol, reactants2ind, param_dict = JlBox.run_simulation(config, solverconfig);"
   ]
  },
  {
   "cell_type": "code",
   "execution_count": null,
   "metadata": {},
   "outputs": [],
   "source": [
    "df_gas = JlBox.postprocess_gas(sol, reactants2ind, config)\n",
    "df_SOA = JlBox.postprocess_aerosol(sol, param_dict, config)\n",
    "df_size = JlBox.postprocess_aerosol_size_dist(sol, param_dict, config)\n",
    "df_SOA"
   ]
  },
  {
   "cell_type": "code",
   "execution_count": null,
   "metadata": {
    "scrolled": false
   },
   "outputs": [],
   "source": [
    "using Plots\n",
    "plot(df_SOA[!,:Time]/60, df_SOA[!,:SOA], label = \"\")\n",
    "xlabel!(\"Time (minute)\")\n",
    "ylabel!(\"SOA mass (ug/m3)\")"
   ]
  },
  {
   "cell_type": "code",
   "execution_count": null,
   "metadata": {},
   "outputs": [],
   "source": [
    "using Plots\n",
    "plot(df_size[!,:Time]/60, log10.(Matrix(df_size[:,2:end])), label = \"\")\n",
    "xlabel!(\"Time (minute)\")\n",
    "ylabel!(\"log10(Bin size in m)\")"
   ]
  },
  {
   "cell_type": "code",
   "execution_count": null,
   "metadata": {},
   "outputs": [],
   "source": []
  }
 ],
 "metadata": {
  "kernelspec": {
   "display_name": "Julia 1.5.3",
   "language": "julia",
   "name": "julia-1.5"
  },
  "language_info": {
   "file_extension": ".jl",
   "mimetype": "application/julia",
   "name": "julia",
   "version": "1.5.3"
  }
 },
 "nbformat": 4,
 "nbformat_minor": 4
}
